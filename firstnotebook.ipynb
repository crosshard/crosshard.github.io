{
  "nbformat": 4,
  "nbformat_minor": 0,
  "metadata": {
    "colab": {
      "name": "firstnotebook.ipynb",
      "provenance": [],
      "collapsed_sections": [],
      "authorship_tag": "ABX9TyMBEHamn75BfOU0RvG+MVVM",
      "include_colab_link": true
    },
    "kernelspec": {
      "name": "python3",
      "display_name": "Python 3"
    },
    "language_info": {
      "name": "python"
    }
  },
  "cells": [
    {
      "cell_type": "markdown",
      "metadata": {
        "id": "view-in-github",
        "colab_type": "text"
      },
      "source": [
        "<a href=\"https://colab.research.google.com/github/crosshard/crosshard.github.io/blob/master/firstnotebook.ipynb\" target=\"_parent\"><img src=\"https://colab.research.google.com/assets/colab-badge.svg\" alt=\"Open In Colab\"/></a>"
      ]
    },
    {
      "cell_type": "code",
      "execution_count": null,
      "metadata": {
        "colab": {
          "base_uri": "https://localhost:8080/"
        },
        "id": "SU-nS4P-fiaj",
        "outputId": "dabf513a-e4cc-4a6c-9270-5255a5c7cb54"
      },
      "outputs": [
        {
          "output_type": "stream",
          "name": "stdout",
          "text": [
            "Hello, world!\n"
          ]
        }
      ],
      "source": [
        "print(\"Hello, world!\")"
      ]
    },
    {
      "cell_type": "code",
      "source": [
        "print(\"Hello, Colab!\")\n",
        "print(\"Hello, Python\")"
      ],
      "metadata": {
        "colab": {
          "base_uri": "https://localhost:8080/"
        },
        "id": "EwlK6lv_gmtS",
        "outputId": "2ab793f2-76bf-4cbe-9daa-47451533d334"
      },
      "execution_count": null,
      "outputs": [
        {
          "output_type": "stream",
          "name": "stdout",
          "text": [
            "Hello, Colab!\n",
            "Hello, Python\n"
          ]
        }
      ]
    },
    {
      "cell_type": "code",
      "source": [
        ""
      ],
      "metadata": {
        "id": "ZjNRTf3Zgxbg"
      },
      "execution_count": null,
      "outputs": []
    },
    {
      "cell_type": "markdown",
      "source": [
        "# テスト\n",
        "\n",
        "Markdown記法で見やすく文章を書くことができます。\n",
        "\n",
        "## 見出し2\n",
        "\n",
        "**強調**\n",
        "\n",
        "数式を書くこともできます。\n",
        "\n",
        "$$\n",
        "y=2x+1\n",
        "$$\n",
        "\n",
        "Pythonコードを書く時はコードブロックを使います。\n",
        "\n",
        "```python\n",
        "print(\"Hello, World!\")\n",
        "```\n",
        "\n",
        "- 箇条書き\n",
        "- 箇条書き\n",
        "  - 箇条書き\n",
        "\n",
        "> 引用文"
      ],
      "metadata": {
        "id": "r_IXPKP-g4-5"
      }
    },
    {
      "cell_type": "code",
      "source": [
        "num = 3 + 5\n",
        "print(num)"
      ],
      "metadata": {
        "colab": {
          "base_uri": "https://localhost:8080/"
        },
        "id": "P20oEQmIhiPC",
        "outputId": "4d75290d-e402-4bf7-e7d6-6cd7fecb596a"
      },
      "execution_count": null,
      "outputs": [
        {
          "output_type": "stream",
          "name": "stdout",
          "text": [
            "8\n"
          ]
        }
      ]
    },
    {
      "cell_type": "code",
      "source": [
        "num"
      ],
      "metadata": {
        "colab": {
          "base_uri": "https://localhost:8080/"
        },
        "id": "l2G_bnsGh2YK",
        "outputId": "9095865e-6c7c-4b9e-8582-b4879005dd7b"
      },
      "execution_count": null,
      "outputs": [
        {
          "output_type": "execute_result",
          "data": {
            "text/plain": [
              "8"
            ]
          },
          "metadata": {},
          "execution_count": 5
        }
      ]
    },
    {
      "cell_type": "code",
      "source": [
        "num"
      ],
      "metadata": {
        "colab": {
          "base_uri": "https://localhost:8080/",
          "height": 170
        },
        "id": "3EMk_L9nh5eC",
        "outputId": "fd3f0550-da3f-487f-bdec-68868345b82f"
      },
      "execution_count": null,
      "outputs": [
        {
          "output_type": "error",
          "ename": "NameError",
          "evalue": "ignored",
          "traceback": [
            "\u001b[0;31m---------------------------------------------------------------------------\u001b[0m",
            "\u001b[0;31mNameError\u001b[0m                                 Traceback (most recent call last)",
            "\u001b[0;32m<ipython-input-1-c774dac2b598>\u001b[0m in \u001b[0;36m<module>\u001b[0;34m()\u001b[0m\n\u001b[0;32m----> 1\u001b[0;31m \u001b[0mnum\u001b[0m\u001b[0;34m\u001b[0m\u001b[0;34m\u001b[0m\u001b[0m\n\u001b[0m",
            "\u001b[0;31mNameError\u001b[0m: name 'num' is not defined"
          ]
        }
      ]
    },
    {
      "cell_type": "code",
      "source": [
        ""
      ],
      "metadata": {
        "id": "J9ZKXIc1iJkq"
      },
      "execution_count": null,
      "outputs": []
    }
  ]
}